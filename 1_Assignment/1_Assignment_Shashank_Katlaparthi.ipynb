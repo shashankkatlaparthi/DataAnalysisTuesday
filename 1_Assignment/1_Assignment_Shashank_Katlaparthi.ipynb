{
 "cells": [
  {
   "cell_type": "markdown",
   "metadata": {},
   "source": [
    "# Question 1"
   ]
  },
  {
   "cell_type": "code",
   "execution_count": 31,
   "metadata": {
    "collapsed": false
   },
   "outputs": [
    {
     "name": "stdout",
     "output_type": "stream",
     "text": [
      "[21, 42, 63, 84, 105, 126, 147, 168, 189, 210, 231, 252, 273, 294, 315, 336, 357, 378, 399, 420, 441, 462, 483]\n",
      "126 252 378\n"
     ]
    }
   ],
   "source": [
    "L = []\n",
    "for i in range(21, 500, 21):\n",
    "\tL.append(i)\n",
    "print (L)\n",
    "num = len(L)\n",
    "fquart = L[num//4]\n",
    "squart = L[num//2]\n",
    "tquart = L[3*num//4]\n",
    "print (fquart, squart, tquart)"
   ]
  },
  {
   "cell_type": "markdown",
   "metadata": {},
   "source": [
    "# Question 2"
   ]
  },
  {
   "cell_type": "code",
   "execution_count": 45,
   "metadata": {
    "collapsed": false
   },
   "outputs": [
    {
     "name": "stdout",
     "output_type": "stream",
     "text": [
      "number of words = 1739\n",
      "mean=5  median=is  mode=the\n"
     ]
    }
   ],
   "source": [
    "myfile = open('ques2.txt', 'r')\n",
    "readfile = myfile.read()\n",
    "wordlist = readfile.split(' ')\n",
    "ordered = sorted(wordlist)\n",
    "wordnum = len(readfile.split(' '))\n",
    "add = 0\n",
    "for i in ordered:\n",
    "    add = add+len(i)\n",
    "print ('number of words = '+str(add))\n",
    "mean = add//wordnum\n",
    "median = ordered[wordnum//2]\n",
    "mode = ''\n",
    "freq = 0\n",
    "for i in ordered:\n",
    "    if ordered.count(i)>freq:\n",
    "        freq = ordered.count(i)\n",
    "        mode = i\n",
    "#print(freq)\n",
    "print('mean='+str(mean),' median='+str(median),' mode='+str(mode))"
   ]
  },
  {
   "cell_type": "markdown",
   "metadata": {},
   "source": [
    "# Question 3"
   ]
  },
  {
   "cell_type": "code",
   "execution_count": 49,
   "metadata": {
    "collapsed": false
   },
   "outputs": [
    {
     "name": "stdout",
     "output_type": "stream",
     "text": [
      "Count of User Not Found = 877\n",
      "\n",
      "User found dictonary 5 random dictonaries:\n",
      "{fzCWCwa81AhApU5.json: 1}\n",
      "{wRFAkBoY1BHFHx5.json: 0}\n",
      "{R52MXTGG1BdbqX5.json: 0}\n",
      "{rUgMObVC1BB8O35.json: 1}\n",
      "{RTaQiOVP1BIsBP5.json: 0}\n"
     ]
    }
   ],
   "source": [
    "import os\n",
    "import random\n",
    "a = os.popen('ls').read()\n",
    "a = a.split('\\n')\n",
    "a.remove('')\n",
    "#a.remove('Untitled.ipynb')\n",
    "counter = 0\n",
    "d = {}\n",
    "segmentuid={}\n",
    "count = 0\n",
    "for i in a:\n",
    "    if 'json' not in i:\n",
    "        continue\n",
    "    inp = open(i)\n",
    "    content = inp.read()\n",
    "    content = content.lower()\n",
    "    if 'user not found' in content:\n",
    "        d[i]= 0\n",
    "        counter += 1\n",
    "        #print(content)\n",
    "    else:\n",
    "        d[i]= 1\n",
    "        first=0\n",
    "        third=0\n",
    "        value=0\n",
    "        while ('segmentuid' in content[value:]):\n",
    "            value += content[value:].find('segmentuid')\n",
    "            number = int(content[value+13])\n",
    "            if number==0:\n",
    "                first += 1\n",
    "            else:\n",
    "                third += 1\n",
    "            value += 1\n",
    "        segmentuid[i]={'first':first,'third':third}\n",
    "\n",
    "#print(d)\n",
    "print('Count of User Not Found = '+str(counter))\n",
    "print('\\nUser found dictonary 5 random dictonaries:')\n",
    "\n",
    "for i in range(5):\n",
    "    keys = list(d.keys())\n",
    "    key = random.choice(keys)\n",
    "    print('{'+key+': '+str(d[key])+'}')\n"
   ]
  },
  {
   "cell_type": "markdown",
   "metadata": {},
   "source": [
    "# Question 4"
   ]
  },
  {
   "cell_type": "code",
   "execution_count": 48,
   "metadata": {
    "collapsed": false
   },
   "outputs": [
    {
     "name": "stdout",
     "output_type": "stream",
     "text": [
      "segmentUid dictonary\n",
      "\n",
      "{'Bt8HN1TN1AZbUB5.json': {'third': 16, 'first': 10}, 'vJHTYrfm1AOdVd2.json': {'third': 121, 'first': 19}, 'WveDTDYo1B7fzq5.json': {'third': 238, 'first': 65}, 'Aig7jcGk1BqoTb5.json': {'third': 1631, 'first': 166}, 'AY9GdOjk1ztGOt5.json': {'third': 0, 'first': 1}, 'wbNrlBLw1ACJMx5.json': {'third': 5, 'first': 65}, 'ALis2oIu1BMo275.json': {'third': 0, 'first': 1}, 'wImEdd0O1BM6ye2.json': {'third': 0, 'first': 1}, 'ZvCOSJMp1BtQEp5.json': {'third': 6, 'first': 83}, 'G4ygoHJR1BCZ5i2.json': {'third': 335, 'first': 118}, 'VWKu5RKy1BzphM5.json': {'third': 958, 'first': 119}, 'Qq0WtvWw1B7qmC5.json': {'third': 3896, 'first': 390}, 'VmTJWZu51BkPlR5.json': {'third': 1655, 'first': 193}, 'BovGXCnr1Bti305.json': {'third': 835, 'first': 107}, 'G0aXzHDS1BMzKr2.json': {'third': 0, 'first': 4}, 'wuRvVBCu1AOZkh5.json': {'third': 478, 'first': 50}, 'AzSGyFPG1BMaSb5.json': {'third': 0, 'first': 6}, 'zUfMQSu71B38jo5.json': {'third': 1093, 'first': 319}, 'RFc6ANkN1BLN4R5.json': {'third': 0, 'first': 27}, 'Fxf1G7Es1BoYdG5.json': {'third': 1310, 'first': 395}, 'qQfVQ5Hf1BJuks5.json': {'third': 0, 'first': 20}, 'ARGizL9S1B8ZD25.json': {'third': 66, 'first': 103}, 'g3w9AsiW1BM7w32.json': {'third': 0, 'first': 1}, 'A9UPpfah1BFECb5.json': {'third': 337, 'first': 88}, 'VZ0udpKf1BLEqG5.json': {'third': 0, 'first': 2}, 'Q354qrDS1Btal05.json': {'third': 566, 'first': 244}, 'ADMEUt2D1BMGwN2.json': {'third': 0, 'first': 1}, 'FztYhncS1BMubM5.json': {'third': 0, 'first': 4}, 'rcddMu2Y1BGiSo5.json': {'third': 0, 'first': 0}, 'VLxuMKFn1BhKf05.json': {'third': 263, 'first': 190}, 'ACE6wrft1AqkzU5.json': {'third': 1, 'first': 1}, 'ZMUX2W8V1BDDoB5.json': {'third': 1, 'first': 15}, 'Qrd4002a1BCbrm5.json': {'third': 259, 'first': 30}, 'rfjK1sh51AKAIe5.json': {'third': 166, 'first': 109}, 'WdJonOel1AFpUv5.json': {'third': 0, 'first': 6}, 'wjYP4axi1BM4qd5.json': {'third': 55, 'first': 10}, 'RC0bR5hm1BFfsh5.json': {'third': 0, 'first': 11}, 'rrLnHyNs1BKZUy5.json': {'third': 0, 'first': 7}, 'wfY2P5rY1ByDXk5.json': {'third': 685, 'first': 74}, 'WOjroE0w1BIUjY5.json': {'third': 0, 'first': 21}, 'q7Y681J51zK01u2.json': {'third': 0, 'first': 212}, 'R6KTK5QO1BMs7t2.json': {'third': 0, 'first': 4}, 'BtHxPRga1zV8Ci5.json': {'third': 2139, 'first': 206}, 'BmsYFBKO1BdaO55.json': {'third': 873, 'first': 34}, 'rpoqhaolyyD7lTxShcyD7NMhFnK2nbDE.json': {'third': 0, 'first': 290}, 'r1MezVIf1Bhxrt6.json': {'third': 560, 'first': 184}, 'VKnyAdDs1BgRL35.json': {'third': 288, 'first': 392}, 'gbdplUAy1BMnmc2.json': {'third': 0, 'first': 1}, 'vSzyn86Y1BH8yF5.json': {'third': 16, 'first': 13}, 'ZOibOH801AM1Ad5.json': {'third': 117, 'first': 153}, 'FvIMrHQk1BnrqL5.json': {'third': 1052, 'first': 168}, 'G03xcobX1BjAxe5.json': {'third': 1, 'first': 3}, 'WPNfMlAs1BMu8S5.json': {'third': 0, 'first': 4}, 'RFWrTlYu1zXk9c5.json': {'third': 594, 'first': 25}, 'Qae5k9IB1AiPtx5.json': {'third': 4, 'first': 1}, 'vjxp4aHx1Astzo5.json': {'third': 697, 'first': 199}, 'wRVS3dyL1BM8US5.json': {'third': 0, 'first': 5}, 'BENy3u321Bu3jA5.json': {'third': 1469, 'first': 58}, 'AjnCxTwv1BMutG2.json': {'third': 0, 'first': 4}, 'Q8YghwIE1BH49S5.json': {'third': 56, 'first': 4}, 'vxT6WyhM1BLtE95.json': {'third': 0, 'first': 2}, 'vkbVIIwp1BMKC22.json': {'third': 1, 'first': 3}, 'rHbhzx1oJMJMR7gd0J1hBxaMonADiig1.json': {'third': 0, 'first': 10}, 'ALxJlgbJ1BhwXC5.json': {'third': 3, 'first': 2}, 'vTsqsqq41A0wIK5.json': {'third': 0, 'first': 16}, 'QZZl3uCS1By2wz5.json': {'third': 15, 'first': 15}, 'WgbmO06X1BLNmL5.json': {'third': 0, 'first': 6}, 'QsAVgeiL1BDh2G5.json': {'third': 23, 'first': 32}, 'QtahjAZT1BMLgW5.json': {'third': 0, 'first': 4}, 'vIaWDxe21BHeX45.json': {'third': 0, 'first': 1}, 'wOnr5rke1BMGCv5.json': {'third': 0, 'first': 1}, 'vxe4Aqve1BM9oT5.json': {'third': 0, 'first': 2}, 'WonGkCh91BnqcG5.json': {'third': 3225, 'first': 236}, 'vLZKER2W1BGfzD5.json': {'third': 563, 'first': 144}, 'FZRY65XU1A405M5.json': {'third': 773, 'first': 415}, 'rMUhNuX11AeS7d5.json': {'third': 0, 'first': 121}, 'G1HUFiGX1BkPEc5.json': {'third': 15, 'first': 14}, 'QWqdZF2t1AthDN5.json': {'third': 0, 'first': 0}, 'rcAqwEm51AQwSN5.json': {'third': 378, 'first': 180}, 'rvFrQSud1Bairy5.json': {'third': 0, 'first': 1}, 'RhomxVAg1BKCXM5.json': {'third': 0, 'first': 4}, 'BdygLYWF1AIUmH5.json': {'third': 1336, 'first': 295}, 'wpgBplTJ1BMORX2.json': {'third': 0, 'first': 3}, 'rn01nShC1BMtzG5.json': {'third': 0, 'first': 7}, 'r8eR4nDu1BMOCx2.json': {'third': 0, 'first': 2}, 'qrj7e1w01BovOU5.json': {'third': 697, 'first': 117}, 'RRhP7AZu1AW5Vn5.json': {'third': 205, 'first': 192}, 'wAA7GQZL1BDxzh5.json': {'third': 399, 'first': 53}, 'wkYmL1Iy1BAmWx5.json': {'third': 0, 'first': 226}, 'BekLXUjv1AZJCO5.json': {'third': 0, 'first': 244}, 'Whyg5OJX1BIbQv5.json': {'third': 0, 'first': 21}, 'weVqUCw31BGWoq5.json': {'third': 0, 'first': 0}, 'q06QaaY91BMmUf5.json': {'third': 0, 'first': 3}, 'W3lKJpRu1AdvrA5.json': {'third': 1357, 'first': 200}, 'vWX6noiG1BMNep5.json': {'third': 0, 'first': 2}, 'zOv7t8T21BLJqo5.json': {'third': 1, 'first': 47}, 'AnhmBX0Z1BMLcf5.json': {'third': 0, 'first': 3}, 'Gb51o7ol1BA8Jf5.json': {'third': 7, 'first': 48}, 'G7rpQ4vY1BI6uM2.json': {'third': 0, 'first': 2}, 'zTOvpRaL1BM6na2.json': {'third': 0, 'first': 1}, 'reobCSyd1BFFrS5.json': {'third': 0, 'first': 0}, 'rbDl0jv21BFF9P5.json': {'third': 0, 'first': 10}, 'ruE1v11v1BMHIh2.json': {'third': 0, 'first': 4}, 'Bb0vE5cP1BLNMa5.json': {'third': 0, 'first': 3}, 'wpQwNEu71BDsFt5.json': {'third': 7, 'first': 5}, 'wdzXBKdc1BEwfl5.json': {'third': 1050, 'first': 94}, 'BlgoDTTL1BLp075.json': {'third': 0, 'first': 4}, 'wY9oOKXC1BwSVl5.json': {'third': 89, 'first': 14}, 'QwHk9b6V1AEqMH5.json': {'third': 0, 'first': 102}, 'QY3ONjDv1BiPYt5.json': {'third': 1243, 'first': 120}, 'zQqUOg6d1BMGwi2.json': {'third': 0, 'first': 1}, 'g3bmJ7hI1BMvIC2.json': {'third': 0, 'first': 1}, 'G2l0GlBb1Bwpxf5.json': {'third': 977, 'first': 190}, 'ReKxr3i91AUv6d5.json': {'third': 0, 'first': 1}, 'VgYBf4X11BMO2e2.json': {'third': 0, 'first': 1}, 'gcqe285I1BwxeK5.json': {'third': 798, 'first': 73}, 'WpUidKQk1BKIT25.json': {'third': 13, 'first': 8}, 'rbdU0rGk1BqgNk5.json': {'third': 3013, 'first': 275}, 'AUqXVIJz1BhjHj5.json': {'third': 0, 'first': 1}, 'RrpHRhiE1Bv2mL5.json': {'third': 176, 'first': 35}, 'BdKcsiu41BxtBr5.json': {'third': 324, 'first': 74}, 'AQLqHEvX1BLnIp5.json': {'third': 0, 'first': 7}, 'ABSy3tf91BzpGe5.json': {'third': 26, 'first': 12}, 'QW5fjLE21BH3B35.json': {'third': 7, 'first': 7}, 'RLbeoM011BCnDo5.json': {'third': 151, 'first': 19}, 'g9FbT5GAvfhYXIYrLDN8hGIJPeOvdRye.json': {'third': 0, 'first': 1}, 'BCaQ1o0L1BF6Vv2.json': {'third': 28, 'first': 87}, 'zMTquV0G1A3zO95.json': {'third': 1481, 'first': 420}, 'RCtixFDc1BMMU02.json': {'third': 0, 'first': 1}, 'ZncSuVAK1BMxW22.json': {'third': 0, 'first': 1}, 'g80GJLlK1BKis35.json': {'third': 0, 'first': 9}, 'VXHWYz8a1AB7WM2.json': {'third': 0, 'first': 112}, 'RchaJXZU1B0bPK5.json': {'third': 885, 'first': 77}, 'GbstW8if1B4xPO5.json': {'third': 929, 'first': 179}, 'B6ohYGtm1ByFOI5.json': {'third': 917, 'first': 146}, 'rlAi8wN93hgezmuFnwKSvvbpJbBJH4CY.json': {'third': 727, 'first': 166}, 'wieTWpLx1BGiWu5.json': {'third': 0, 'first': 8}, 'B1fkWU4B1BnJpi5.json': {'third': 0, 'first': 45}, 'rnegUVaP1Be3NF5.json': {'third': 0, 'first': 220}, 'VnN6zg6r1zLlRS5.json': {'third': 948, 'first': 373}, 'RehuTeXf1BKV2b5.json': {'third': 0, 'first': 11}, 'VuGrlYM11BJy6Z5.json': {'third': 0, 'first': 34}, 'AoMDTLDe1Bk5lD5.json': {'third': 700, 'first': 317}, 'AR0hkF421BFyc25.json': {'third': 0, 'first': 1}, 'RhE0MivB1Bsay25.json': {'third': 613, 'first': 62}, 'ZuCGqtX51BMmqF5.json': {'third': 1, 'first': 10}, 'qb5rCu9u1BMOZl2.json': {'third': 0, 'first': 1}, 'rEU5SXr61ALxuB5.json': {'third': 225, 'first': 241}, 'R6JfH8ck1BJeZx2.json': {'third': 4, 'first': 22}, 'RtIoKu2C1zPlPC5.json': {'third': 404, 'first': 171}, 'w95QhHrT1B2h695.json': {'third': 1732, 'first': 223}, 'R98b5Mzr1Bi1nb5.json': {'third': 837, 'first': 336}, 'VLGY20Zs1BGvV45.json': {'third': 1, 'first': 74}, 'ZVk66FW11APmqN5.json': {'third': 665, 'first': 447}, 'WQF1MwHu1ATDnk5.json': {'third': 1408, 'first': 317}, 'vzyuFUlL1BdiyH5.json': {'third': 221, 'first': 282}, 'vs7Q55Ab1BD9Go5.json': {'third': 31, 'first': 6}, 'rj7uNpUo1AYptb5.json': {'third': 53, 'first': 185}, 'qwRTQ9Lj1Bpk3e5.json': {'third': 588, 'first': 274}, 'R8nkA9GD1Borkr5.json': {'third': 103, 'first': 19}, 'ROD15LNO1zGDlD5.json': {'third': 74, 'first': 141}, 'RMo7Cxzi1Bgf8d5.json': {'third': 114, 'first': 105}, 'rR8iX0HM1BEwXK2.json': {'third': 53, 'first': 22}, 'RIm45HSY1BFgQA5.json': {'third': 1, 'first': 60}, 'run6Rgjd1BuoAv5.json': {'third': 590, 'first': 80}, 'WFgvm0ph1ATGxm5.json': {'third': 987, 'first': 211}, 'Gc90Oc0x1zQO9M5.json': {'third': 38, 'first': 67}, 'rUMLvvEj1BEy012.json': {'third': 0, 'first': 9}, 'wfwUF5Vd1BGFgr2.json': {'third': 4, 'first': 6}, 'WaY4jHJL1AAoQN5.json': {'third': 0, 'first': 95}, 'Q72ts3B41Bcuag5.json': {'third': 2347, 'first': 83}, 'GBe4DTe41BcyK15.json': {'third': 10, 'first': 5}, 'QuI5P7sG1BoBus5.json': {'third': 790, 'first': 156}, 'w8JsGfDn1BsN3H5.json': {'third': 980, 'first': 242}, 'WJwUWKFr1zOBp52.json': {'third': 13, 'first': 113}, 'RgMORvt81AMI4r5.json': {'third': 0, 'first': 3}, 'RsRfgh3v1B92BJ5.json': {'third': 0, 'first': 7}, 'AKeCOVxv1AR78w5.json': {'third': 914, 'first': 301}, 'BA0Q9k0P1BGDyo2.json': {'third': 2, 'first': 7}, 'VjSnHLtrZLAhNPcRurj6ExcbVAFFT3un.json': {'third': 0, 'first': 29}, 'VH8e8hPS1BJ8A65.json': {'third': 0, 'first': 16}, 'vVrtKgMX1BweMp5.json': {'third': 0, 'first': 9}, 'REon76Ro1Bk6t55.json': {'third': 0, 'first': 8}, 'wIrXHBfp1BMjAd2.json': {'third': 0, 'first': 1}, 'B5jXbs5X1BMwhq5.json': {'third': 0, 'first': 6}, 'RHXQIJOF1BuJi95.json': {'third': 55, 'first': 20}, 'BoMsIYqa1BDho55.json': {'third': 18, 'first': 11}, 'ZnrJ1QXr1AuC3x5.json': {'third': 0, 'first': 2}, 'wMLb9zFP1ASZR85.json': {'third': 2048, 'first': 213}, 'VmU8tt491BM1UC2.json': {'third': 0, 'first': 1}, 'AGCpEWWb1BEx235.json': {'third': 0, 'first': 4}, 'AAOnpE891BhSM45.json': {'third': 500, 'first': 178}, 'gAzm2a8S1BIxC05.json': {'third': 0, 'first': 13}, 'qunhQRw41BMqRD2.json': {'third': 0, 'first': 1}, 'vk1WhQROOaoy4ZALy7opLpEZhWC1GxgS.json': {'third': 14, 'first': 298}, 'FvxnmIZU1AWxGP5.json': {'third': 0, 'first': 1}, 'Wa8NlaxK1AGL8U5.json': {'third': 1189, 'first': 272}, 'W6xg92mB1AvRLa5.json': {'third': 238, 'first': 155}, 'w3cgOQxl1BGX235.json': {'third': 0, 'first': 6}, 'wUBFp9ND1B2O7H5.json': {'third': 330, 'first': 132}, 'qZfpYTat1BIKg85.json': {'third': 0, 'first': 19}, 'zSIKqV4u1BEsgg5.json': {'third': 175, 'first': 108}, 'wSjAjT5c1BxECT5.json': {'third': 464, 'first': 100}, 'rnIaTwvt1BLkQl5.json': {'third': 20, 'first': 13}, 'VUbqbYjj1BMx675.json': {'third': 1, 'first': 2}, 'VxSB0MwO1BB4WY5.json': {'third': 415, 'first': 267}, 'QS9Jnyre1Bzq2z2.json': {'third': 573, 'first': 21}, 'RukXNrFv1BLPIq2.json': {'third': 35, 'first': 9}, 'QP655HOF1B4tPp5.json': {'third': 1794, 'first': 323}, 'AsvbNPu71B75C65.json': {'third': 0, 'first': 321}, 'vYjpJILa1BMwNp5.json': {'third': 0, 'first': 21}, 'G7ILtDa31BwXhx5.json': {'third': 62, 'first': 71}, 'WRwZkEWX1AMb605.json': {'third': 9, 'first': 123}, 'Q5EnGgDM1BhWjo5.json': {'third': 3, 'first': 4}, 'w0BGAqao1BpALl5.json': {'third': 57, 'first': 98}, 'ZpQjxq0d1BMbYu2.json': {'third': 0, 'first': 4}, 'w4jMcxUX1B9DiP5.json': {'third': 1, 'first': 2}, 'RgeMZ2Qb1BkRzq5.json': {'third': 16, 'first': 155}, 'AtGOWVZf1BLjrK2.json': {'third': 0, 'first': 5}, 'zNXXGHKF1AKoO65.json': {'third': 0, 'first': 46}, 'WB4RF8C21B8fCc5.json': {'third': 896, 'first': 186}, 'WjAgUPNa1BJEhq2.json': {'third': 0, 'first': 6}, 'AnQ6ESQ61Aoc4F5.json': {'third': 1231, 'first': 223}, 'RLHN1Vk91BbIQk5.json': {'third': 1775, 'first': 159}, 'W0F73CNI1BM8Gh2.json': {'third': 0, 'first': 1}, 'rQ0RjFZC1BGkTb5.json': {'third': 239, 'first': 145}, 'QtkSTLCB1BIsFK5.json': {'third': 16, 'first': 8}, 'W9GfOapB1BKu0w5.json': {'third': 14, 'first': 6}, 'B54jhdRr1BrnBO5.json': {'third': 396, 'first': 67}, 'g6uTAWNA1ANb2d5.json': {'third': 0, 'first': 5}, 'rVanM4F31BMv2i5.json': {'third': 0, 'first': 2}, 'wOl4wv2q1zsxAR5.json': {'third': 0, 'first': 210}, 'AAD2VmOH1BMwW12.json': {'third': 0, 'first': 1}, 'RKRK1Pte1BwXnT5.json': {'third': 237, 'first': 13}, 'r5X6ciY71BlHC32.json': {'third': 162, 'first': 144}, 'wbPdTWzXQkN0ndTDG4EhXCPXzfr33W2a.json': {'third': 54, 'first': 377}, 'QAr7G9t41BIRoS5.json': {'third': 0, 'first': 54}, 'QqfwcL4Y1Bnvm05.json': {'third': 749, 'first': 147}, 'BMjPBNTk1AOWPF5.json': {'third': 1091, 'first': 380}, 'VRzQ2Owo1BByll5.json': {'third': 1510, 'first': 158}, 'zVqPkcZi1BMlvA5.json': {'third': 0, 'first': 37}, 'VPGqpAaM1BFYyf5.json': {'third': 3, 'first': 9}, 'VYo5NcHa1AfU705.json': {'third': 0, 'first': 30}, 'qrChX24k1BHqlv5.json': {'third': 34, 'first': 28}, 'Qu1x0BYC1AHPoe5.json': {'third': 0, 'first': 152}, 'zqbZpPLf1BMPOG5.json': {'third': 0, 'first': 4}, 'WvfhW5CW1BKz8T5.json': {'third': 0, 'first': 5}, 'Vp8oy8lN1Bs9Ky5.json': {'third': 0, 'first': 0}, 'wRUHJZlg1BsVnT5.json': {'third': 496, 'first': 47}, 'RLFsETGD1AqMyr5.json': {'third': 0, 'first': 2}, 'rNozYJSV1AYgIa5.json': {'third': 185, 'first': 60}, 'A5xOTqVS1Amd7F5.json': {'third': 1574, 'first': 339}, 'RIRoYnVj1BMpBT5.json': {'third': 0, 'first': 1}, 'Qpu2EAfQ1BMm5J2.json': {'third': 0, 'first': 4}, 'W9k6BiC31ASY4T5.json': {'third': 575, 'first': 206}, 'WYfi2sfz1A8F6a5.json': {'third': 0, 'first': 1}, 'vNGkqbXk1BMKjd2.json': {'third': 0, 'first': 1}, 'RIncB32I1BMoqi5.json': {'third': 0, 'first': 5}, 'WqdFTpNQ1AFYt65.json': {'third': 751, 'first': 105}, 'whcuo8nr1zxiHb5.json': {'third': 0, 'first': 266}, 'znNaVJvD1ByXRA5.json': {'third': 424, 'first': 102}, 'rMXdZsXg1BERmv5.json': {'third': 279, 'first': 206}, 'ZUzm137k1BEKiG5.json': {'third': 0, 'first': 0}, 'AtRPmo9f1BJSDf5.json': {'third': 0, 'first': 11}, 'gcyyGodc1AO2J15.json': {'third': 2191, 'first': 322}, 'Wy10fDIa1ADsur5.json': {'third': 0, 'first': 21}, 'rGbkm76421xRPvwBWd1dbspgVUoOj8jK.json': {'third': 0, 'first': 117}, 'RuCdPh3Q1BDcGL5.json': {'third': 0, 'first': 0}, 'wTB9SJ4h1BEvUK5.json': {'third': 0, 'first': 12}, 'viYLTDxE1B9AUu5.json': {'third': 116, 'first': 81}, 'VOIcWFmB1BKhmf5.json': {'third': 0, 'first': 3}, 'vrZ9dXXP1BtO5w5.json': {'third': 1135, 'first': 198}, 'RCrCAOZv1B7JMI5.json': {'third': 321, 'first': 270}, 'wtxAI8301BJFCm5.json': {'third': 3, 'first': 5}, 'wH0dlIPZ1BHO4P5.json': {'third': 0, 'first': 15}, 'AlGylYZ91B9UaK5.json': {'third': 0, 'first': 3}, 'g9nxwxLF1BF5WL2.json': {'third': 48, 'first': 46}, 'FXYoNBlF1BMs162.json': {'third': 0, 'first': 1}, 'WlpSX49U1BKbiB5.json': {'third': 9, 'first': 28}, 'rhUZigaH1BKFi75.json': {'third': 0, 'first': 4}, 'wqeJNPQ61AwMSC5.json': {'third': 440, 'first': 202}, 'wQI7l8os1BAOrU5.json': {'third': 128, 'first': 139}, 'Be8W8wmK1AoryF5.json': {'third': 0, 'first': 92}, 'rekGI7C61AwVWu5.json': {'third': 0, 'first': 76}, 'rLi53H881BAlra5.json': {'third': 5, 'first': 4}, 'RtSjLEjv1BMoXq2.json': {'third': 0, 'first': 4}, 'w77GpP1o1BJRKR5.json': {'third': 1, 'first': 6}, 'vnxWp3r31Bx3rL5.json': {'third': 113, 'first': 104}, 'RSkEBmcm1BBigz5.json': {'third': 320, 'first': 92}, 'r4LsJesz1BEe8w5.json': {'third': 0, 'first': 0}, 'g7cdiFT01BMybI2.json': {'third': 0, 'first': 2}, 'rQ9QWdAT1BMwRx5.json': {'third': 9, 'first': 3}, 'rbBHXXAu1BHqTl5.json': {'third': 0, 'first': 0}, 'vqNPYjndiO2K4NcidiUcuMIcTY2nTKZ8.json': {'third': 51, 'first': 162}, 'VtbhaDJP1BMqzC2.json': {'third': 0, 'first': 1}, 'wj8rTOOl1BEyqI5.json': {'third': 11, 'first': 12}, 'Vq2C9u0u1BsbPF5.json': {'third': 598, 'first': 116}, 'BiStK9rA1zT5VS5.json': {'third': 1955, 'first': 394}, 'vWeMud5V1BMyma2.json': {'third': 0, 'first': 1}, 'zR79p05c1BMObJ2.json': {'third': 0, 'first': 3}, 'ARI5Y6ZM1BImA25.json': {'third': 0, 'first': 12}, 'Rn9dcjzH1AvoVa2.json': {'third': 0, 'first': 55}, 'qq9kS06r1B6lcp5.json': {'third': 662, 'first': 235}, 'AcE7drxWsXOMPTMvKGWXlKq9ssEDqX1M.json': {'third': 20, 'first': 227}, 'FX5fmTRe1BnZec5.json': {'third': 130, 'first': 220}, 'wKBrd3Za1BJkDr2.json': {'third': 22, 'first': 12}, 'QWqI76vY1BCSPK5.json': {'third': 229, 'first': 24}, 'rcJDu64e1BAcO22.json': {'third': 0, 'first': 5}, 'VPSaAVrM1zYUyh5.json': {'third': 0, 'first': 2}, 'QZL7nIpc1AN9w22.json': {'third': 734, 'first': 264}, 'vLdmrHKE1BJvsw5.json': {'third': 0, 'first': 8}, 'vsnTQP1D1ATjpF5.json': {'third': 4, 'first': 56}, 'rGoHAdWO1ADNeS2.json': {'third': 159, 'first': 189}, 'AccoGpwU1BMvn42.json': {'third': 0, 'first': 1}, 'wUIZUK8R1BMDBs2.json': {'third': 0, 'first': 1}, 'w9LFyUcR1BgSo35.json': {'third': 0, 'first': 3}, 'Vx5uIXgV1BFWKp5.json': {'third': 3, 'first': 11}, 'rrOPB4jR1BLZrB5.json': {'third': 12, 'first': 11}, 'RkKb0PjT1zMWgW5.json': {'third': 712, 'first': 96}, 'rqIAinu01BDpqe5.json': {'third': 41, 'first': 12}, 'rnWS78W61Bz3Lj5.json': {'third': 0, 'first': 64}, 'qxDZeVmG1BJQPj5.json': {'third': 0, 'first': 38}, 'RAbXwtOJ1BIsR05.json': {'third': 0, 'first': 3}, 'qUogFx1H1B4kac2.json': {'third': 104, 'first': 132}, 'vIZvughTQ6aIGGO09Ux1FfsvIAwvFLen.json': {'third': 0, 'first': 92}, 'AdLIMIYD1BuDiU2.json': {'third': 159, 'first': 44}, 'ZQcoKCmB1B5eii5.json': {'third': 484, 'first': 369}, 'QRkstXPN1zG1fk5.json': {'third': 2807, 'first': 440}, 'wRzVn2RK1BuVe85.json': {'third': 1159, 'first': 77}, 'AnTIjUWG1BDNX85.json': {'third': 27, 'first': 201}, 'AHijfs1f1BLo1i2.json': {'third': 19, 'first': 8}, 'ztA3NtIV1B7kYc5.json': {'third': 0, 'first': 1}, 'ZPbR4mg11BMIf25.json': {'third': 0, 'first': 3}, 'vlpdSh6i1AOXUa5.json': {'third': 1, 'first': 266}, 'QAafxXTl1BM9hD5.json': {'third': 0, 'first': 5}, 'AMzoHgJo1zzHp05.json': {'third': 2692, 'first': 240}, 'R7FJCkge1ANWJf5.json': {'third': 2, 'first': 161}, 'A2HkZPkn1BpvvG5.json': {'third': 0, 'first': 15}, 'AJHEkzfW1Adc5x5.json': {'third': 0, 'first': 2}, 'BF0LwNhC1BekAq2.json': {'third': 0, 'first': 44}, 'W60qLLKS1AlFeR5.json': {'third': 2419, 'first': 110}, 'WH3GDa5v1BK0iu5.json': {'third': 0, 'first': 1}, 'WbkqlfzJ1BDsW85.json': {'third': 7, 'first': 19}, 'BN5TKLdK1zsXgV5.json': {'third': 2494, 'first': 253}, 'g7ZYJoVZ1Biklu5.json': {'third': 530, 'first': 140}, 'g54OZDxJ1AjU9A5.json': {'third': 776, 'first': 93}, 'B6MHb4ZP1BDFEq5.json': {'third': 0, 'first': 15}, 'Wg2QUY1s1BasoP5.json': {'third': 163, 'first': 20}, 'qu4Z0gyTXlYkt08UeQuM8Oleh50eFf8l.json': {'third': 0, 'first': 3}, 'vVWPb3qX1BhW3b5.json': {'third': 491, 'first': 80}, 'Zp1j3ZGn1AVxHA5.json': {'third': 27, 'first': 215}, 'wDUfmZCt1BwtXl5.json': {'third': 135, 'first': 23}, 'Qve9aYp91zzUnC5.json': {'third': 0, 'first': 159}, 'rpmRdl6r1BqIhj5.json': {'third': 125, 'first': 7}, 'A3j6Sjuz1BMMV82.json': {'third': 0, 'first': 1}, 'VPPA4CmX1BugZy5.json': {'third': 1341, 'first': 268}, 'zsX3Qg1s1BMx512.json': {'third': 0, 'first': 4}, 'VUOAvH5I1BMkFH2.json': {'third': 0, 'first': 1}, 'zOInRjY61BzwE25.json': {'third': 1, 'first': 195}, 'BKrmTGPK1BMn4W5.json': {'third': 0, 'first': 59}, 'A2VNCBDc1BI1q65.json': {'third': 0, 'first': 6}, 'ZuQO68HJ1BC5bh5.json': {'third': 0, 'first': 10}, 'Rv7YUw1o1BvnJk5.json': {'third': 725, 'first': 138}, 'Vrjd5vpq1Advbq5.json': {'third': 335, 'first': 101}, 'QXXNnlDy1BKdw25.json': {'third': 0, 'first': 5}, 'wghzLF0A1Bfarm5.json': {'third': 733, 'first': 290}, 'B0jSr8hO1BqCAc5.json': {'third': 19, 'first': 4}, 'AJmn0gHp1BDJ242.json': {'third': 0, 'first': 35}, 'whGAIFTX1BtV3g2.json': {'third': 67, 'first': 75}, 'rUgMObVC1BB8O35.json': {'third': 0, 'first': 4}, 'WrT0B30t1BqF6r5.json': {'third': 0, 'first': 146}, 'qQbfcvFi1B2krk5.json': {'third': 2609, 'first': 305}, 'ABwA5DAx1Az1g65.json': {'third': 2474, 'first': 188}, 'GCkFM4uj1BpNS65.json': {'third': 2613, 'first': 251}, 'wd4FSvBJ1BBNUK5.json': {'third': 1042, 'first': 81}, 'BqPyokHE1Acifj5.json': {'third': 1187, 'first': 236}, 'r11ejw1U1BKHr45.json': {'third': 0, 'first': 8}, 'qPB2M3Bj1ABQY25.json': {'third': 7, 'first': 295}, 'wo4ji8p11BE3l25.json': {'third': 221, 'first': 25}, 'ATPm3LpW1BepUd5.json': {'third': 1686, 'first': 467}, 'VSmsuQLi1zHoRH5.json': {'third': 0, 'first': 5}, 'vzWrKtkn1BrlWj5.json': {'third': 221, 'first': 47}, 'G6yvLRud1BJylQ2.json': {'third': 2, 'first': 20}, 'rP7XoEXx1BLs865.json': {'third': 23, 'first': 1}, 'Wxp6oLx41BJPGf5.json': {'third': 0, 'first': 12}, 'rhxmikOH1BmWKB5.json': {'third': 0, 'first': 6}, 'Vx65yIWz1BHSx95.json': {'third': 0, 'first': 3}, 'VHyOyWcCTwVwZeJyXZH427pWsWKNWbsg.json': {'third': 0, 'first': 163}, 'qPDSnDTM1BMP4J5.json': {'third': 0, 'first': 1}, 'vVeRRq9Q1BwxQq5.json': {'third': 64, 'first': 44}, 'APlqXoMg1AcwZy5.json': {'third': 100, 'first': 29}, 'zpxjpMNy1AuiYF2.json': {'third': 23, 'first': 70}, 'Q4nwk3Gh1BKCS45.json': {'third': 0, 'first': 4}, 'QyrNpJ3c1BIsbm5.json': {'third': 8, 'first': 25}, 'w0ER8rln1BwRng5.json': {'third': 12, 'first': 5}, 'VSUBQqJf1BLDUq5.json': {'third': 491, 'first': 9}, 'wsRAmm5Q1AnPvH5.json': {'third': 47, 'first': 62}, 'Wy4dICb81zTjZi2.json': {'third': 0, 'first': 26}, 'g30TxF1W1A5zip5.json': {'third': 205, 'first': 27}, 'BPXhjodA1BMq0f2.json': {'third': 0, 'first': 1}, 'WRoTINWe1BMN9Q5.json': {'third': 0, 'first': 1}, 'RhcAKh6i1BGUGA5.json': {'third': 12, 'first': 22}, 'qrQOHyoQ1zFyYL5.json': {'third': 0, 'first': 154}, 'wd36an0f1B1YiW5.json': {'third': 371, 'first': 377}, 'VGPfVlzt1BIHmY2.json': {'third': 0, 'first': 13}, 'rwHZJrqP1BI9WP5.json': {'third': 8, 'first': 16}, 'B9JmSTEk1BI70R5.json': {'third': 0, 'first': 10}, 'rKeUzrwj1ByL3k5.json': {'third': 0, 'first': 8}, 'WQuLQDyn1BLrNE5.json': {'third': 6, 'first': 0}, 'wLE7dqFR1BJyqj5.json': {'third': 0, 'first': 16}, 'rlCDZMai1ALhom5.json': {'third': 369, 'first': 56}, 'QuwOnkyK1AqLRV2.json': {'third': 6, 'first': 5}, 'fzCWCwa81AhApU5.json': {'third': 0, 'first': 0}, 'RTXwl3iw1BpZsY5.json': {'third': 93, 'first': 117}, 'wb7GFvQJ1B0hYM5.json': {'third': 0, 'first': 3}, 'WwmpHbh31BrHby5.json': {'third': 792, 'first': 44}, 'BDCb90TA1BLgGH5.json': {'third': 20, 'first': 88}, 'WMW6SIZe1BKLSo5.json': {'third': 11, 'first': 5}, 'q5N116GQ1BMdbf2.json': {'third': 0, 'first': 1}, 'r15pEZTi1BMsyT5.json': {'third': 1, 'first': 3}, 'W9ggYZtQ1BMqRD2.json': {'third': 0, 'first': 1}, 'whSyMF5Q1BMtRU5.json': {'third': 0, 'first': 1}, 'znqz1JY51BMmy05.json': {'third': 164, 'first': 10}, 'vGQWymI81BDiCq5.json': {'third': 313, 'first': 151}, 'RFAfKOJZ1A5o0D5.json': {'third': 0, 'first': 367}, 'Vztegpyo1AesYV5.json': {'third': 7, 'first': 2}, 'Qtu8zclN1znQkl5.json': {'third': 1618, 'first': 108}, 'VuujW5f61BlTna5.json': {'third': 1043, 'first': 205}, 'R7Jr48Oy1BMxAO5.json': {'third': 17, 'first': 35}, 'RleTQ9pG1A88GT5.json': {'third': 0, 'first': 2}, 'vkwwRtNf1zRhlQ5.json': {'third': 0, 'first': 473}, 'wozRbewM1AI7pc5.json': {'third': 1713, 'first': 308}, 'WFIVJEud1B662x5.json': {'third': 3, 'first': 180}, 'VtkRv2V91BM9rd5.json': {'third': 0, 'first': 1}, 'wBzl56oc1zrvEo5.json': {'third': 0, 'first': 252}, 'WHx2cVDj1BtDPT5.json': {'third': 625, 'first': 202}, 'wojrdqup1AZVyC5.json': {'third': 5, 'first': 1}, 'B7R1QfGl1AvPZw5.json': {'third': 1224, 'first': 194}, 'WCO10JB01BLlp35.json': {'third': 3, 'first': 3}, 'q8TVfU1W1BDHfh2.json': {'third': 127, 'first': 46}, 'BG7SjKA21BuLQG5.json': {'third': 0, 'first': 3}, 'vjljAxZ41BqE2f5.json': {'third': 761, 'first': 246}, 'vqTjwdYb1BMy7s5.json': {'third': 8, 'first': 5}, 'FZua0Uxl1BMOYm2.json': {'third': 0, 'first': 1}, 'VV9OvM4I1AsX142.json': {'third': 0, 'first': 4}, 'WIiYrHvN1Afwcq5.json': {'third': 0, 'first': 1}, 'Q9QRGy391BtQIQ5.json': {'third': 745, 'first': 29}, 'w7NDdFH01zvseu5.json': {'third': 0, 'first': 102}, 'REi64X7d1AGFnF2.json': {'third': 15, 'first': 190}, 'QWbykDVS1BMaD92.json': {'third': 0, 'first': 1}, 'r8MYOFW11zEzdd5.json': {'third': 5, 'first': 165}, 'zRZbEMBH1BAQxr5.json': {'third': 262, 'first': 173}, 'rRi5LVgw1BbC2j5.json': {'third': 0, 'first': 0}, 'RjMCFkE11B3zIi5.json': {'third': 0, 'first': 261}, 'wWVrBJXs1BL6uj5.json': {'third': 0, 'first': 3}, 'QxNB4bGg1BH1Xz5.json': {'third': 0, 'first': 8}, 'VMbt31ld1BBW6C5.json': {'third': 0, 'first': 2}, 'wacZlqNh1Bl5FW5.json': {'third': 531, 'first': 111}, 'BGijYBDQ1AX6HB5.json': {'third': 105, 'first': 9}, 'ZvYyHsS31BJMfI5.json': {'third': 3, 'first': 10}, 'QsamkhX91BHXR75.json': {'third': 0, 'first': 11}, 'whwERCRP1BH0GW5.json': {'third': 0, 'first': 0}, 'w8oH2uDi1BMAXJ2.json': {'third': 0, 'first': 4}, 'r4hGmDUM1Burdg5.json': {'third': 475, 'first': 238}, 'r3HyXat91APNOu5.json': {'third': 94, 'first': 179}, 'ZQfaSO5n1BpdMa5.json': {'third': 26, 'first': 32}, 'RB3emS9P1BM9Xg2.json': {'third': 9, 'first': 14}, 'ZSzfe3jX1B2aT65.json': {'third': 0, 'first': 1}, 'FwTVVs8j1AJO1U5.json': {'third': 64, 'first': 262}, 'rQfQle9t1BMoDh2.json': {'third': 0, 'first': 4}, 'WBF9qxjj1zMxmP5.json': {'third': 0, 'first': 257}, 'wFjp1u1o1BHqYz5.json': {'third': 0, 'first': 27}, 'RmtpGQeX1zsWF15.json': {'third': 1874, 'first': 170}, 'BsEiZ9y61B4gjI5.json': {'third': 2780, 'first': 143}, 'Vw1nFgNH1BCHSx5.json': {'third': 348, 'first': 122}, 'RQkMZUZe1BI0UM2.json': {'third': 0, 'first': 17}, 'vksYxtk71BqBWj5.json': {'third': 765, 'first': 281}, 'g53MTe0i1BFwWn5.json': {'third': 0, 'first': 0}, 'ZQoOV2fx1BBgyJ5.json': {'third': 385, 'first': 17}, 'w1tPRHpW1BehxZ5.json': {'third': 3306, 'first': 342}, 'BIuv0zAE1BLRsg5.json': {'third': 17, 'first': 5}, 'FxTuYsfm1BnEYC5.json': {'third': 0, 'first': 0}, 'Bpk3BPmD1BLmwF5.json': {'third': 0, 'first': 6}, 'g8Ej8Y901BL4e45.json': {'third': 0, 'first': 53}, 'GCoEORZO1zWf3e5.json': {'third': 3, 'first': 272}, 'WIaQQcMu1BDlTh5.json': {'third': 0, 'first': 0}, 'zPZbXMqN1zXgie5.json': {'third': 174, 'first': 221}, 'A1Fxs5Ag1A8vuB5.json': {'third': 1246, 'first': 91}, 'AuRamyuA1BMJkI2.json': {'third': 0, 'first': 4}, 'vyAAuMo81BH2sd5.json': {'third': 0, 'first': 11}, 'A3bVx1T11BLTx65.json': {'third': 0, 'first': 5}, 'ZnP8wAxh1BMMoQ2.json': {'third': 0, 'first': 5}, 'wr3T0KE61zvtuZ5.json': {'third': 0, 'first': 202}, 'rsnKu4BH1BhGBD5.json': {'third': 0, 'first': 36}, 'r2OH1qz91zWJgQ5.json': {'third': 378, 'first': 309}, 'RF4aLnyy1Bq4qB5.json': {'third': 457, 'first': 71}, 'gAGOFJsL1BcBsU5.json': {'third': 97, 'first': 46}, 'WIfzZm0U1BHkwx5.json': {'third': 0, 'first': 2}, 'zMUq28w21AGgwe2.json': {'third': 0, 'first': 12}, 'rvTjjoAm1AJTZx5.json': {'third': 468, 'first': 47}, 'Waq4rojO1B6ME25.json': {'third': 0, 'first': 0}, 'qakOLREM1BLXoM5.json': {'third': 0, 'first': 1}, 'AniGWaG71BFC205.json': {'third': 86, 'first': 89}, 'rG73nibf1B7xmG5.json': {'third': 158, 'first': 61}, 'AYBhCCwF1zzi5m5.json': {'third': 0, 'first': 231}, 'R0hAO3n41BCIGv5.json': {'third': 0, 'first': 4}, 'WiLPib4d1BHM4i5.json': {'third': 2, 'first': 8}, 'RKOYw5sY1ByIY22.json': {'third': 33, 'first': 10}, 'VMvFV5X41A1SLj5.json': {'third': 0, 'first': 123}, 'AMrlahXF1BdClC2.json': {'third': 2184, 'first': 63}, 'vjukd8Ep1ANQXJ5.json': {'third': 42, 'first': 116}, 'vwOCckem1Bx4Wa5.json': {'third': 484, 'first': 56}, 'rHLEe68s1ARcUj5.json': {'third': 0, 'first': 1}, 'BbsEjJhY1A9y6x5.json': {'third': 0, 'first': 102}, 'AKQDTy341AYLky5.json': {'third': 0, 'first': 5}, 'g9nTxgPQ1BMwk92.json': {'third': 0, 'first': 4}, 'RobjHrno1BFwTD2.json': {'third': 46, 'first': 18}, 'RkLRclQqb7zWsPZXCEbrns4zumGJBBCJ.json': {'third': 0, 'first': 17}, 'Bk4iIqky1Bl3SL2.json': {'third': 172, 'first': 145}, 'wTu8gCreexE7dFFsoAK0dSCTSXDOBL0x.json': {'third': 22, 'first': 169}, 'W5drVVBv1BMlj55.json': {'third': 0, 'first': 10}, 'RgL8LXyb1BuAUy5.json': {'third': 145, 'first': 81}, 'ZUUy97hQ1Bwtlc5.json': {'third': 1, 'first': 1}, 'AFFC2C591BlDCm5.json': {'third': 386, 'first': 48}, 'wvon4kVo1AqRn15.json': {'third': 0, 'first': 145}, 'qXAOQWaG1BMzsB5.json': {'third': 0, 'first': 1}, 'BiSyaEpH1BHs2P5.json': {'third': 1, 'first': 11}, 'W7i1uW5C1A4HUY5.json': {'third': 3165, 'first': 182}, 'AAHWj5QN1BJ1ZP5.json': {'third': 0, 'first': 2}, 'G1MIBSBH1ByC2u5.json': {'third': 8, 'first': 14}, 'A919aKwiqnBd0plwT3izfU0NhGRKnX6z.json': {'third': 0, 'first': 1}, 'qZigPREc1BMNzi2.json': {'third': 0, 'first': 1}, 'qaYSpRdq1BqDGF5.json': {'third': 444, 'first': 26}, 'G0mjg96A1A4z1p5.json': {'third': 0, 'first': 60}, 'wDFFVP1n1B8WQn5.json': {'third': 2616, 'first': 364}, 'zvvJoBOU1BMxOp5.json': {'third': 0, 'first': 3}, 'rtHMOVvr1Brs2u5.json': {'third': 0, 'first': 0}, 'g1DPeDI11BHOyi5.json': {'third': 0, 'first': 9}, 'wC5uP2Ht1BJOeq5.json': {'third': 0, 'first': 14}, 'G1dhvwTI1B45yf5.json': {'third': 1, 'first': 122}, 'rUcoRMHx1Ak9SX5.json': {'third': 0, 'first': 171}, 'vQ0m53Ax1BI45J5.json': {'third': 0, 'first': 3}, 'ABwpqKRf1Bz2UG5.json': {'third': 0, 'first': 68}, 'BT50R6Qw1BMqhl5.json': {'third': 0, 'first': 4}, 'wdwFQreo1BxzoU5.json': {'third': 14, 'first': 9}, 'rOiau9pJquU0YRpMYYR4ElY1ibePWz1p.json': {'third': 898, 'first': 179}, 'Wa8QvwxH1A8S625.json': {'third': 321, 'first': 64}, 'zqDY7ZLG1BLmC52.json': {'third': 0, 'first': 7}, 'G0GCyqRk1Ba51g5.json': {'third': 1806, 'first': 192}, 'rA0KtS0J1AMmTw5.json': {'third': 597, 'first': 222}, 'WgO5xdqB1AlD9F5.json': {'third': 97, 'first': 29}, 'RcTSaSAYAkEeGrLD8tj0JQ7SoRC4jsJN.json': {'third': 0, 'first': 19}, 'R6oQa2GG1BMMM95.json': {'third': 0, 'first': 1}, 'VQZjOCNu1BtJTI5.json': {'third': 367, 'first': 85}, 'BPmPI8001BMsIa5.json': {'third': 0, 'first': 4}, 'zqt0g3be1BMMAA5.json': {'third': 0, 'first': 3}, 'W28d25LL1BMOr72.json': {'third': 0, 'first': 1}, 'R9N9QzFO1B9Hqi5.json': {'third': 436, 'first': 194}, 'WR2CYTVQ1BM2nn5.json': {'third': 409, 'first': 26}, 'rhJcwbkO1Bo4ZD5.json': {'third': 75, 'first': 70}, 'FwesrNXp1ABBQT5.json': {'third': 0, 'first': 5}, 'ANuFI3wm1BM9C75.json': {'third': 0, 'first': 3}, 'g07DrnGU1BLE0X5.json': {'third': 0, 'first': 2}, 'REInZTyX1BMxe62.json': {'third': 0, 'first': 1}, 'Wd1tsjPR1Bx8Nr5.json': {'third': 491, 'first': 127}, 'RoQ441oX1Br3TE5.json': {'third': 89, 'first': 45}, 'Bevic89q1BI78c5.json': {'third': 8, 'first': 3}, 'wQDXIFZS1BJTRU5.json': {'third': 7, 'first': 39}, 'WWl2ALx51AmKnl5.json': {'third': 120, 'first': 88}, 'wDEvuCsE1BJ3Nv5.json': {'third': 0, 'first': 10}, 'ruZhhuu61BjjZH5.json': {'third': 0, 'first': 193}, 'Gcrvfihv1BMwXG2.json': {'third': 0, 'first': 1}, 'W1LzOgzH1BMNpp2.json': {'third': 0, 'first': 4}, 'Zrrns0lJ1Bdo305.json': {'third': 0, 'first': 227}, 'qPntkVP71BMOPB5.json': {'third': 1, 'first': 5}, 'RFm7ejJ61BoSl85.json': {'third': 1033, 'first': 313}, 'fWOrVAxL1BMLWy2.json': {'third': 0, 'first': 4}, 'BIpfcxZA1zQ35g5.json': {'third': 0, 'first': 418}, 'WaDLKoZE1AikRv5.json': {'third': 1608, 'first': 303}, 'ZuWjcESU1BoR9S5.json': {'third': 1, 'first': 0}, 'WIs5P3Eg1AWVbn5.json': {'third': 0, 'first': 170}, 'RuCV2Ml01BztxS5.json': {'third': 0, 'first': 1}, 'WpzmtuPo1BMkfk2.json': {'third': 0, 'first': 4}, 'FyXumeBK1BKKMo5.json': {'third': 2, 'first': 7}, 'wIVBvcOM1AOKvM5.json': {'third': 26, 'first': 251}, 'Zv9ImYb81AUS6O5.json': {'third': 505, 'first': 294}, 'R0bRPwwc1Bj8SG5.json': {'third': 0, 'first': 192}, 'r4qhc4lZ1BLHR15.json': {'third': 21, 'first': 1}, 'vwZGeczL1BqGIi5.json': {'third': 89, 'first': 73}, 'WIqbzX441BMGml2.json': {'third': 0, 'first': 4}, 'r24op22O1BunLZ5.json': {'third': 58, 'first': 217}, 'BOaq3ZNo1AzLOR5.json': {'third': 1181, 'first': 272}, 'rcnd53uk1AbZg15.json': {'third': 1, 'first': 152}, 'zsn3Uw621AMTK95.json': {'third': 385, 'first': 151}, 'ZSkS0bmT1Bz6x15.json': {'third': 947, 'first': 4}, 'VT8pdysN1zvRqK5.json': {'third': 35, 'first': 243}, 'R1IYuUzz1AR8Os5.json': {'third': 2, 'first': 178}, 'AGIKzXTx1BMMk75.json': {'third': 4, 'first': 4}, 'R75QcDlk1BMIuC5.json': {'third': 3, 'first': 8}, 'zRm9pJQR1Bgem15.json': {'third': 73, 'first': 40}, 'RVRSFBBd1BnvBc5.json': {'third': 988, 'first': 66}, 'WsuP1cFn1BJYGv5.json': {'third': 1, 'first': 5}, 'VVQ6gUGL1BM8Lm5.json': {'third': 0, 'first': 4}, 'R9cDiCOn1BLdgf5.json': {'third': 0, 'first': 3}, 'wuoLWeMB1AfUU32.json': {'third': 0, 'first': 3}, 'w4ShkB2G1BMma45.json': {'third': 6, 'first': 5}, 'AlpgeUoO6y2LshqJxIu5tvHKcisaiRxY.json': {'third': 194, 'first': 44}, 'ga4nrcT71BMrLz5.json': {'third': 0, 'first': 4}, 'BDVxEPRh1BLQUL5.json': {'third': 32, 'first': 39}, 'AxtScjEi1Btf3Y5.json': {'third': 0, 'first': 2}, 'VoXkSIU31AWwnb2.json': {'third': 1521, 'first': 226}, 'g6rJPqKY1BDDhM5.json': {'third': 33, 'first': 64}, 'BBR91eEw1BDCxE5.json': {'third': 0, 'first': 18}, 'VNyyIVf41Bh3co5.json': {'third': 1742, 'first': 284}, 'VZDt2qcc1BFmBl5.json': {'third': 0, 'first': 0}, 'BQYVihQz1BFwt25.json': {'third': 0, 'first': 18}, 'VIEaQ5Ey1BiHhl5.json': {'third': 0, 'first': 294}, 'AdjWlMHv1A8vM55.json': {'third': 14, 'first': 125}, 'Aa8F01bG1zEVca5.json': {'third': 1538, 'first': 360}, 'wBKcC9HI1Apdos2.json': {'third': 0, 'first': 5}, 'RsXwvljm1AhLad2.json': {'third': 356, 'first': 171}, 'g58fMEEi1BBMGY5.json': {'third': 0, 'first': 7}, 'A2Dsv7RE1BDqYt5.json': {'third': 27, 'first': 121}}\n"
     ]
    }
   ],
   "source": [
    "print('segmentUid dictonary\\n')\n",
    "print(segmentuid)"
   ]
  },
  {
   "cell_type": "code",
   "execution_count": null,
   "metadata": {
    "collapsed": true
   },
   "outputs": [],
   "source": []
  }
 ],
 "metadata": {
  "kernelspec": {
   "display_name": "Python [Root]",
   "language": "python",
   "name": "Python [Root]"
  },
  "language_info": {
   "codemirror_mode": {
    "name": "ipython",
    "version": 3
   },
   "file_extension": ".py",
   "mimetype": "text/x-python",
   "name": "python",
   "nbconvert_exporter": "python",
   "pygments_lexer": "ipython3",
   "version": "3.5.2"
  }
 },
 "nbformat": 4,
 "nbformat_minor": 0
}
